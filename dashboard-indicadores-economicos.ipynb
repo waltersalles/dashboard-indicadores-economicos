{
  "cells": [
    {
      "cell_type": "code",
      "execution_count": 10,
      "metadata": {
        "id": "VjYy0F2gZIPR",
        "outputId": "0474ac42-2357-420f-edd7-6a6d2099551c",
        "colab": {
          "base_uri": "https://localhost:8080/"
        }
      },
      "outputs": [
        {
          "output_type": "stream",
          "name": "stdout",
          "text": [
            "Requirement already satisfied: dash in /usr/local/lib/python3.11/dist-packages (3.0.3)\n",
            "Requirement already satisfied: Flask<3.1,>=1.0.4 in /usr/local/lib/python3.11/dist-packages (from dash) (3.0.3)\n",
            "Requirement already satisfied: Werkzeug<3.1 in /usr/local/lib/python3.11/dist-packages (from dash) (3.0.6)\n",
            "Requirement already satisfied: plotly>=5.0.0 in /usr/local/lib/python3.11/dist-packages (from dash) (5.24.1)\n",
            "Requirement already satisfied: importlib-metadata in /usr/local/lib/python3.11/dist-packages (from dash) (8.6.1)\n",
            "Requirement already satisfied: typing-extensions>=4.1.1 in /usr/local/lib/python3.11/dist-packages (from dash) (4.13.2)\n",
            "Requirement already satisfied: requests in /usr/local/lib/python3.11/dist-packages (from dash) (2.32.3)\n",
            "Requirement already satisfied: retrying in /usr/local/lib/python3.11/dist-packages (from dash) (1.3.4)\n",
            "Requirement already satisfied: nest-asyncio in /usr/local/lib/python3.11/dist-packages (from dash) (1.6.0)\n",
            "Requirement already satisfied: setuptools in /usr/local/lib/python3.11/dist-packages (from dash) (75.2.0)\n",
            "Requirement already satisfied: Jinja2>=3.1.2 in /usr/local/lib/python3.11/dist-packages (from Flask<3.1,>=1.0.4->dash) (3.1.6)\n",
            "Requirement already satisfied: itsdangerous>=2.1.2 in /usr/local/lib/python3.11/dist-packages (from Flask<3.1,>=1.0.4->dash) (2.2.0)\n",
            "Requirement already satisfied: click>=8.1.3 in /usr/local/lib/python3.11/dist-packages (from Flask<3.1,>=1.0.4->dash) (8.1.8)\n",
            "Requirement already satisfied: blinker>=1.6.2 in /usr/local/lib/python3.11/dist-packages (from Flask<3.1,>=1.0.4->dash) (1.9.0)\n",
            "Requirement already satisfied: tenacity>=6.2.0 in /usr/local/lib/python3.11/dist-packages (from plotly>=5.0.0->dash) (9.1.2)\n",
            "Requirement already satisfied: packaging in /usr/local/lib/python3.11/dist-packages (from plotly>=5.0.0->dash) (24.2)\n",
            "Requirement already satisfied: MarkupSafe>=2.1.1 in /usr/local/lib/python3.11/dist-packages (from Werkzeug<3.1->dash) (3.0.2)\n",
            "Requirement already satisfied: zipp>=3.20 in /usr/local/lib/python3.11/dist-packages (from importlib-metadata->dash) (3.21.0)\n",
            "Requirement already satisfied: charset-normalizer<4,>=2 in /usr/local/lib/python3.11/dist-packages (from requests->dash) (3.4.1)\n",
            "Requirement already satisfied: idna<4,>=2.5 in /usr/local/lib/python3.11/dist-packages (from requests->dash) (3.10)\n",
            "Requirement already satisfied: urllib3<3,>=1.21.1 in /usr/local/lib/python3.11/dist-packages (from requests->dash) (2.3.0)\n",
            "Requirement already satisfied: certifi>=2017.4.17 in /usr/local/lib/python3.11/dist-packages (from requests->dash) (2025.1.31)\n",
            "Requirement already satisfied: six>=1.7.0 in /usr/local/lib/python3.11/dist-packages (from retrying->dash) (1.17.0)\n"
          ]
        }
      ],
      "source": [
        "!pip install dash\n",
        "\n"
      ]
    },
    {
      "cell_type": "code",
      "source": [
        "import dash\n",
        "from dash import dcc, html\n",
        "import plotly.graph_objs as go\n",
        "import pandas as pd\n",
        "\n",
        "# Inicializar o app\n",
        "app = dash.Dash(__name__)\n",
        "server = app.server\n",
        "\n",
        "# Função para carregar dados históricos e previsões\n",
        "def carregar_dados(nome):\n",
        "    historico = pd.read_csv(f'dados_{nome}.csv', parse_dates=['Data'])\n",
        "\n",
        "    # Certifique-se de usar a coluna correta para as previsões. Se for 'Data', use ela.\n",
        "    previsao = pd.read_csv(f'previsao_{nome}.csv', parse_dates=['Data'])  # Ajuste para a coluna 'Data', se necessário\n",
        "\n",
        "    return historico, previsao\n",
        "\n",
        "# Ajustar a função que gera os gráficos para usar a coluna correta\n",
        "def gerar_grafico(nome, titulo, yaxis_label):\n",
        "    historico, previsao = carregar_dados(nome)\n",
        "\n",
        "    return dcc.Graph(\n",
        "        id=f'grafico-{nome}',\n",
        "        figure={\n",
        "            'data': [\n",
        "                go.Scatter(x=historico['Data'], y=historico['Valor'], mode='lines', name='Histórico'),\n",
        "                go.Scatter(x=previsao['Data'], y=previsao['Previsao'], mode='lines+markers', name='Previsão')\n",
        "            ],\n",
        "            'layout': go.Layout(\n",
        "                title=titulo,\n",
        "                xaxis={'title': 'Data'},\n",
        "                yaxis={'title': yaxis_label},\n",
        "                hovermode='closest'\n",
        "            )\n",
        "        }\n",
        "    )\n",
        "\n",
        "# Layout do dashboard\n",
        "app.layout = html.Div(children=[\n",
        "    html.H1('Dashboard Econômico com Previsões', style={'textAlign': 'center'}),\n",
        "\n",
        "    html.Div(children=[\n",
        "        gerar_grafico('ipca', 'Inflação (IPCA)', '% ao ano'),\n",
        "        gerar_grafico('selic', 'Taxa Selic', '% ao ano'),\n",
        "        gerar_grafico('dolar', 'Cotação do Dólar (USD/BRL)', 'R$'),\n",
        "        gerar_grafico('pib', 'PIB - Produto Interno Bruto', '% ao ano')\n",
        "    ])\n",
        "])\n",
        "\n",
        "# Rodar o app\n",
        "if __name__ == '__main__':\n",
        "    app.run(debug=True)"
      ],
      "metadata": {
        "id": "nKaYaxoU3gWt",
        "outputId": "82957259-5c5b-4004-dca8-c8257af341f7",
        "colab": {
          "base_uri": "https://localhost:8080/",
          "height": 671
        }
      },
      "execution_count": 21,
      "outputs": [
        {
          "output_type": "display_data",
          "data": {
            "text/plain": [
              "<IPython.core.display.Javascript object>"
            ],
            "application/javascript": [
              "(async (port, path, width, height, cache, element) => {\n",
              "    if (!google.colab.kernel.accessAllowed && !cache) {\n",
              "      return;\n",
              "    }\n",
              "    element.appendChild(document.createTextNode(''));\n",
              "    const url = await google.colab.kernel.proxyPort(port, {cache});\n",
              "    const iframe = document.createElement('iframe');\n",
              "    iframe.src = new URL(path, url).toString();\n",
              "    iframe.height = height;\n",
              "    iframe.width = width;\n",
              "    iframe.style.border = 0;\n",
              "    iframe.allow = [\n",
              "        'accelerometer',\n",
              "        'autoplay',\n",
              "        'camera',\n",
              "        'clipboard-read',\n",
              "        'clipboard-write',\n",
              "        'gyroscope',\n",
              "        'magnetometer',\n",
              "        'microphone',\n",
              "        'serial',\n",
              "        'usb',\n",
              "        'xr-spatial-tracking',\n",
              "    ].join('; ');\n",
              "    element.appendChild(iframe);\n",
              "  })(8050, \"/\", \"100%\", 650, false, window.element)"
            ]
          },
          "metadata": {}
        }
      ]
    }
  ],
  "metadata": {
    "accelerator": "GPU",
    "colab": {
      "gpuType": "T4",
      "provenance": []
    },
    "kernelspec": {
      "display_name": "Python 3",
      "name": "python3"
    },
    "language_info": {
      "name": "python"
    }
  },
  "nbformat": 4,
  "nbformat_minor": 0
}